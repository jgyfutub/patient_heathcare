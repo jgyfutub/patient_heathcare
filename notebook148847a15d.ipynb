{
 "cells": [
  {
   "cell_type": "code",
   "execution_count": 1,
   "id": "6a9ed7c7",
   "metadata": {
    "_cell_guid": "b1076dfc-b9ad-4769-8c92-a6c4dae69d19",
    "_uuid": "8f2839f25d086af736a60e9eeb907d3b93b6e0e5",
    "execution": {
     "iopub.execute_input": "2022-11-10T16:00:53.959560Z",
     "iopub.status.busy": "2022-11-10T16:00:53.959016Z",
     "iopub.status.idle": "2022-11-10T17:53:29.495674Z",
     "shell.execute_reply": "2022-11-10T17:53:29.494386Z"
    },
    "papermill": {
     "duration": 6755.544648,
     "end_time": "2022-11-10T17:53:29.498725",
     "exception": false,
     "start_time": "2022-11-10T16:00:53.954077",
     "status": "completed"
    },
    "tags": []
   },
   "outputs": [
    {
     "data": {
      "text/html": [
       "<style type='text/css'>\n",
       ".datatable table.frame { margin-bottom: 0; }\n",
       ".datatable table.frame thead { border-bottom: none; }\n",
       ".datatable table.frame tr.coltypes td {  color: #FFFFFF;  line-height: 6px;  padding: 0 0.5em;}\n",
       ".datatable .bool    { background: #DDDD99; }\n",
       ".datatable .object  { background: #565656; }\n",
       ".datatable .int     { background: #5D9E5D; }\n",
       ".datatable .float   { background: #4040CC; }\n",
       ".datatable .str     { background: #CC4040; }\n",
       ".datatable .time    { background: #40CC40; }\n",
       ".datatable .row_index {  background: var(--jp-border-color3);  border-right: 1px solid var(--jp-border-color0);  color: var(--jp-ui-font-color3);  font-size: 9px;}\n",
       ".datatable .frame tbody td { text-align: left; }\n",
       ".datatable .frame tr.coltypes .row_index {  background: var(--jp-border-color0);}\n",
       ".datatable th:nth-child(2) { padding-left: 12px; }\n",
       ".datatable .hellipsis {  color: var(--jp-cell-editor-border-color);}\n",
       ".datatable .vellipsis {  background: var(--jp-layout-color0);  color: var(--jp-cell-editor-border-color);}\n",
       ".datatable .na {  color: var(--jp-cell-editor-border-color);  font-size: 80%;}\n",
       ".datatable .sp {  opacity: 0.25;}\n",
       ".datatable .footer { font-size: 9px; }\n",
       ".datatable .frame_dimensions {  background: var(--jp-border-color3);  border-top: 1px solid var(--jp-border-color0);  color: var(--jp-ui-font-color3);  display: inline-block;  opacity: 0.6;  padding: 1px 10px 1px 5px;}\n",
       "</style>\n"
      ],
      "text/plain": [
       "<IPython.core.display.HTML object>"
      ]
     },
     "metadata": {},
     "output_type": "display_data"
    },
    {
     "name": "stdout",
     "output_type": "stream",
     "text": [
      "Fitting 5 folds for each of 20 candidates, totalling 100 fits\n"
     ]
    }
   ],
   "source": [
    "#importing modules and pacakges\n",
    "import numpy as np # linear algebra\n",
    "import pandas as pd # data processing, CSV file I/O (e.g. pd.read_csv)\n",
    "from sklearn.preprocessing import LabelEncoder\n",
    "# Input data files are available in the read-only \"../input/\" directory\n",
    "# For example, running this (by clicking run or pressing Shift+Enter) will list all files under the input directory\n",
    "import csv\n",
    "import os\n",
    "import lightgbm as lgb\n",
    "from sklearn import metrics \n",
    "from sklearn.ensemble import RandomForestClassifier\n",
    "from sklearn.linear_model import LogisticRegression\n",
    "from sklearn.model_selection import RandomizedSearchCV\n",
    "from sklearn.model_selection import train_test_split\n",
    "for dirname, _, filenames in os.walk('/kaggle/input'):\n",
    "    for filename in filenames:\n",
    "        os.path.join(dirname, filename)\n",
    "#importing files \n",
    "sample_submission=pd.read_csv('/kaggle/input/patient-healthcare/sample_submission.csv')\n",
    "train=pd.read_csv('/kaggle/input/patient-healthcare/train.csv')\n",
    "test=pd.read_csv('/kaggle/input/patient-healthcare/test.csv',index_col=False)\n",
    "#changning categorical data to numrical data so that model can maioulate them\n",
    "for name in train.select_dtypes(exclude='number').columns:\n",
    "    le=LabelEncoder()\n",
    "    #changing categorical data to numerical data\n",
    "    label = le.fit_transform(train[name])\n",
    "    #removing the column with categorical columns\n",
    "    train.drop(name, axis=1, inplace=True)\n",
    "    #now addig the columns but with numerical data\n",
    "    train[name] = label\n",
    "for name in test.select_dtypes(exclude='number').columns:\n",
    "    le=LabelEncoder()\n",
    "    #changing categorical data to numerical data\n",
    "    label = le.fit_transform(test[name])\n",
    "    #removing the column with categorical columns\n",
    "    test.drop(name, axis=1, inplace=True)\n",
    "    #now addig the columns but with numerical data\n",
    "    test[name] = label\n",
    "#implementing interpolate function of pandas module to fill null values with  a suitable value \n",
    "#limit_direction=\"forward\" means that it will implement the function going down thw table\n",
    "train=train.interpolate(method='linear',limit_direction='forward')\n",
    "#limit_direction=\"backward\" means that it will implement the function going up thw table\n",
    "test=test.interpolate(method='linear',limit_direction='forward')\n",
    "train_y=train['has_died']\n",
    "train.pop('has_died')\n",
    "ids=test['patient_id']\n",
    "test=np.asarray(test).astype(np.float32)\n",
    "train=np.asarray(train).astype(np.float32)\n",
    "train_y=np.asarray(train_y).astype(np.float32)\n",
    "#paramaters on which model will be hypertuned\n",
    "rf_grid={\n",
    "    'n_estimators':np.arange(10,1000,50),\n",
    "    'max_depth':[None,3,5,10],\n",
    "    'min_samples_split':np.arange(2,20,2),\n",
    "    'min_samples_leaf':np.arange(1,20,2)\n",
    "}\n",
    "# clf=RandomForestClassifier(n_estimators = 100).fit(train, train_y)\n",
    "np.random.seed(42)\n",
    "#implementing randomized search cv in order to hypertune the model\n",
    "rs_rf=RandomizedSearchCV(RandomForestClassifier(),param_distributions=rf_grid,cv=5,n_iter=20,verbose=True)\n",
    "#fitting the training data in fit\n",
    "rs_rf.fit(train, train_y)\n",
    "#preidcting the results of the test data\n",
    "arr=rs_rf.predict(test)\n",
    "#creating a  csv file for putting the result of test data\n",
    "filename = \"records.csv\"\n",
    "with open(filename, 'w') as csvfile: \n",
    "    csvwriter = csv.writer(csvfile) \n",
    "    csvwriter.writerow(['patient_id','has_died'])\n",
    "    i=0\n",
    "    for id in ids:\n",
    "        csvwriter.writerows([[id],[arr[i]]])\n",
    "# You can write up to 20GB to the current directory (/kaggle/working/) that gets preserved as output when you create a version using \"Save & Run All\" \n",
    "# You can also write temporary files to /kaggle/temp/, but they won't be saved outside of the current session"
   ]
  },
  {
   "cell_type": "code",
   "execution_count": 2,
   "id": "44981d17",
   "metadata": {
    "execution": {
     "iopub.execute_input": "2022-11-10T17:53:29.505974Z",
     "iopub.status.busy": "2022-11-10T17:53:29.505592Z",
     "iopub.status.idle": "2022-11-10T17:53:29.590828Z",
     "shell.execute_reply": "2022-11-10T17:53:29.589468Z"
    },
    "papermill": {
     "duration": 0.091743,
     "end_time": "2022-11-10T17:53:29.593318",
     "exception": false,
     "start_time": "2022-11-10T17:53:29.501575",
     "status": "completed"
    },
    "tags": []
   },
   "outputs": [
    {
     "data": {
      "text/html": [
       "<div>\n",
       "<style scoped>\n",
       "    .dataframe tbody tr th:only-of-type {\n",
       "        vertical-align: middle;\n",
       "    }\n",
       "\n",
       "    .dataframe tbody tr th {\n",
       "        vertical-align: top;\n",
       "    }\n",
       "\n",
       "    .dataframe thead th {\n",
       "        text-align: right;\n",
       "    }\n",
       "</style>\n",
       "<table border=\"1\" class=\"dataframe\">\n",
       "  <thead>\n",
       "    <tr style=\"text-align: right;\">\n",
       "      <th></th>\n",
       "      <th>patient_id</th>\n",
       "      <th>has_died</th>\n",
       "    </tr>\n",
       "  </thead>\n",
       "  <tbody>\n",
       "    <tr>\n",
       "      <th>0</th>\n",
       "      <td>112951.0</td>\n",
       "      <td>NaN</td>\n",
       "    </tr>\n",
       "    <tr>\n",
       "      <th>1</th>\n",
       "      <td>0.0</td>\n",
       "      <td>NaN</td>\n",
       "    </tr>\n",
       "    <tr>\n",
       "      <th>2</th>\n",
       "      <td>17307.0</td>\n",
       "      <td>NaN</td>\n",
       "    </tr>\n",
       "    <tr>\n",
       "      <th>3</th>\n",
       "      <td>0.0</td>\n",
       "      <td>NaN</td>\n",
       "    </tr>\n",
       "    <tr>\n",
       "      <th>4</th>\n",
       "      <td>123759.0</td>\n",
       "      <td>NaN</td>\n",
       "    </tr>\n",
       "    <tr>\n",
       "      <th>...</th>\n",
       "      <td>...</td>\n",
       "      <td>...</td>\n",
       "    </tr>\n",
       "    <tr>\n",
       "      <th>55023</th>\n",
       "      <td>0.0</td>\n",
       "      <td>NaN</td>\n",
       "    </tr>\n",
       "    <tr>\n",
       "      <th>55024</th>\n",
       "      <td>100290.0</td>\n",
       "      <td>NaN</td>\n",
       "    </tr>\n",
       "    <tr>\n",
       "      <th>55025</th>\n",
       "      <td>0.0</td>\n",
       "      <td>NaN</td>\n",
       "    </tr>\n",
       "    <tr>\n",
       "      <th>55026</th>\n",
       "      <td>105358.0</td>\n",
       "      <td>NaN</td>\n",
       "    </tr>\n",
       "    <tr>\n",
       "      <th>55027</th>\n",
       "      <td>0.0</td>\n",
       "      <td>NaN</td>\n",
       "    </tr>\n",
       "  </tbody>\n",
       "</table>\n",
       "<p>55028 rows × 2 columns</p>\n",
       "</div>"
      ],
      "text/plain": [
       "       patient_id  has_died\n",
       "0        112951.0       NaN\n",
       "1             0.0       NaN\n",
       "2         17307.0       NaN\n",
       "3             0.0       NaN\n",
       "4        123759.0       NaN\n",
       "...           ...       ...\n",
       "55023         0.0       NaN\n",
       "55024    100290.0       NaN\n",
       "55025         0.0       NaN\n",
       "55026    105358.0       NaN\n",
       "55027         0.0       NaN\n",
       "\n",
       "[55028 rows x 2 columns]"
      ]
     },
     "execution_count": 2,
     "metadata": {},
     "output_type": "execute_result"
    }
   ],
   "source": [
    "len(arr)\n",
    "pd.read_csv(filename)"
   ]
  },
  {
   "cell_type": "code",
   "execution_count": 3,
   "id": "e73f83c9",
   "metadata": {
    "execution": {
     "iopub.execute_input": "2022-11-10T17:53:29.600786Z",
     "iopub.status.busy": "2022-11-10T17:53:29.599760Z",
     "iopub.status.idle": "2022-11-10T17:53:29.676983Z",
     "shell.execute_reply": "2022-11-10T17:53:29.676166Z"
    },
    "papermill": {
     "duration": 0.083336,
     "end_time": "2022-11-10T17:53:29.679360",
     "exception": false,
     "start_time": "2022-11-10T17:53:29.596024",
     "status": "completed"
    },
    "tags": []
   },
   "outputs": [],
   "source": [
    "record=pd.read_csv('records.csv')\n",
    "recording=record[record['patient_id'].eq(0.0)].index\n",
    "record.drop(recording, inplace=True)\n",
    "record.drop(labels='has_died', axis=\"columns\", inplace=True)\n",
    "record['has_died']=arr\n",
    "record.to_csv('/kaggle/working/records.csv', index=False)"
   ]
  },
  {
   "cell_type": "code",
   "execution_count": 4,
   "id": "576cce4b",
   "metadata": {
    "execution": {
     "iopub.execute_input": "2022-11-10T17:53:29.686011Z",
     "iopub.status.busy": "2022-11-10T17:53:29.685661Z",
     "iopub.status.idle": "2022-11-10T17:53:29.750027Z",
     "shell.execute_reply": "2022-11-10T17:53:29.748620Z"
    },
    "papermill": {
     "duration": 0.071035,
     "end_time": "2022-11-10T17:53:29.753131",
     "exception": false,
     "start_time": "2022-11-10T17:53:29.682096",
     "status": "completed"
    },
    "tags": []
   },
   "outputs": [
    {
     "name": "stdout",
     "output_type": "stream",
     "text": [
      "903\n"
     ]
    }
   ],
   "source": [
    "print(len([1 for i in arr if i==1]))"
   ]
  }
 ],
 "metadata": {
  "kernelspec": {
   "display_name": "Python 3",
   "language": "python",
   "name": "python3"
  },
  "language_info": {
   "codemirror_mode": {
    "name": "ipython",
    "version": 3
   },
   "file_extension": ".py",
   "mimetype": "text/x-python",
   "name": "python",
   "nbconvert_exporter": "python",
   "pygments_lexer": "ipython3",
   "version": "3.7.12"
  },
  "papermill": {
   "default_parameters": {},
   "duration": 6765.027678,
   "end_time": "2022-11-10T17:53:30.793710",
   "environment_variables": {},
   "exception": null,
   "input_path": "__notebook__.ipynb",
   "output_path": "__notebook__.ipynb",
   "parameters": {},
   "start_time": "2022-11-10T16:00:45.766032",
   "version": "2.3.4"
  }
 },
 "nbformat": 4,
 "nbformat_minor": 5
}
